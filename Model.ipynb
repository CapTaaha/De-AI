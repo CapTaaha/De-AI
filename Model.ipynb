{
  "nbformat": 4,
  "nbformat_minor": 0,
  "metadata": {
    "colab": {
      "provenance": []
    },
    "kernelspec": {
      "name": "python3",
      "display_name": "Python 3"
    },
    "language_info": {
      "name": "python"
    }
  },
  "cells": [
    {
      "cell_type": "code",
      "execution_count": 1,
      "metadata": {
        "id": "cl3MKzE8ftb6"
      },
      "outputs": [],
      "source": [
        "import numpy as np\n",
        "import pandas as pd\n",
        "from sklearn.model_selection import train_test_split\n",
        "import torch\n",
        "import torch.nn as nn\n",
        "from transformers import T5Tokenizer"
      ]
    },
    {
      "cell_type": "code",
      "source": [
        "# Load the CSV file\n",
        "upload = pd.read_csv(\"/content/New.csv\")\n",
        "\n",
        "data = upload.iloc[:,0:2]\n",
        "data = data.sample(frac=1).reset_index(drop=True)\n",
        "\n",
        "data['Code'] = data['Code'].astype(str)"
      ],
      "metadata": {
        "id": "Ga-MSeRpf2Ip"
      },
      "execution_count": 21,
      "outputs": []
    },
    {
      "cell_type": "code",
      "source": [
        "data.head()"
      ],
      "metadata": {
        "colab": {
          "base_uri": "https://localhost:8080/",
          "height": 206
        },
        "id": "wcLILaHOf71J",
        "outputId": "f8084095-8481-41d0-850e-dd5ce85362cd"
      },
      "execution_count": 6,
      "outputs": [
        {
          "output_type": "execute_result",
          "data": {
            "text/plain": [
              "                                                Code  Label\n",
              "0  int removeElement(int* nums, int numsSize, int...      1\n",
              "1  class Solution2 {\\npublic:\\n    vector<vector<...      1\n",
              "2  class Solution {\\npublic:\\n    vector<int> app...      1\n",
              "3  //#define _USE_MATH_DEFINES\\n//#include <cmath...      0\n",
              "4  class Solution {\\npublic:\\n    int boxDeliveri...      1"
            ],
            "text/html": [
              "\n",
              "  <div id=\"df-1fceb51a-889e-4880-8e02-82c2ccf9b190\" class=\"colab-df-container\">\n",
              "    <div>\n",
              "<style scoped>\n",
              "    .dataframe tbody tr th:only-of-type {\n",
              "        vertical-align: middle;\n",
              "    }\n",
              "\n",
              "    .dataframe tbody tr th {\n",
              "        vertical-align: top;\n",
              "    }\n",
              "\n",
              "    .dataframe thead th {\n",
              "        text-align: right;\n",
              "    }\n",
              "</style>\n",
              "<table border=\"1\" class=\"dataframe\">\n",
              "  <thead>\n",
              "    <tr style=\"text-align: right;\">\n",
              "      <th></th>\n",
              "      <th>Code</th>\n",
              "      <th>Label</th>\n",
              "    </tr>\n",
              "  </thead>\n",
              "  <tbody>\n",
              "    <tr>\n",
              "      <th>0</th>\n",
              "      <td>int removeElement(int* nums, int numsSize, int...</td>\n",
              "      <td>1</td>\n",
              "    </tr>\n",
              "    <tr>\n",
              "      <th>1</th>\n",
              "      <td>class Solution2 {\\npublic:\\n    vector&lt;vector&lt;...</td>\n",
              "      <td>1</td>\n",
              "    </tr>\n",
              "    <tr>\n",
              "      <th>2</th>\n",
              "      <td>class Solution {\\npublic:\\n    vector&lt;int&gt; app...</td>\n",
              "      <td>1</td>\n",
              "    </tr>\n",
              "    <tr>\n",
              "      <th>3</th>\n",
              "      <td>//#define _USE_MATH_DEFINES\\n//#include &lt;cmath...</td>\n",
              "      <td>0</td>\n",
              "    </tr>\n",
              "    <tr>\n",
              "      <th>4</th>\n",
              "      <td>class Solution {\\npublic:\\n    int boxDeliveri...</td>\n",
              "      <td>1</td>\n",
              "    </tr>\n",
              "  </tbody>\n",
              "</table>\n",
              "</div>\n",
              "    <div class=\"colab-df-buttons\">\n",
              "\n",
              "  <div class=\"colab-df-container\">\n",
              "    <button class=\"colab-df-convert\" onclick=\"convertToInteractive('df-1fceb51a-889e-4880-8e02-82c2ccf9b190')\"\n",
              "            title=\"Convert this dataframe to an interactive table.\"\n",
              "            style=\"display:none;\">\n",
              "\n",
              "  <svg xmlns=\"http://www.w3.org/2000/svg\" height=\"24px\" viewBox=\"0 -960 960 960\">\n",
              "    <path d=\"M120-120v-720h720v720H120Zm60-500h600v-160H180v160Zm220 220h160v-160H400v160Zm0 220h160v-160H400v160ZM180-400h160v-160H180v160Zm440 0h160v-160H620v160ZM180-180h160v-160H180v160Zm440 0h160v-160H620v160Z\"/>\n",
              "  </svg>\n",
              "    </button>\n",
              "\n",
              "  <style>\n",
              "    .colab-df-container {\n",
              "      display:flex;\n",
              "      gap: 12px;\n",
              "    }\n",
              "\n",
              "    .colab-df-convert {\n",
              "      background-color: #E8F0FE;\n",
              "      border: none;\n",
              "      border-radius: 50%;\n",
              "      cursor: pointer;\n",
              "      display: none;\n",
              "      fill: #1967D2;\n",
              "      height: 32px;\n",
              "      padding: 0 0 0 0;\n",
              "      width: 32px;\n",
              "    }\n",
              "\n",
              "    .colab-df-convert:hover {\n",
              "      background-color: #E2EBFA;\n",
              "      box-shadow: 0px 1px 2px rgba(60, 64, 67, 0.3), 0px 1px 3px 1px rgba(60, 64, 67, 0.15);\n",
              "      fill: #174EA6;\n",
              "    }\n",
              "\n",
              "    .colab-df-buttons div {\n",
              "      margin-bottom: 4px;\n",
              "    }\n",
              "\n",
              "    [theme=dark] .colab-df-convert {\n",
              "      background-color: #3B4455;\n",
              "      fill: #D2E3FC;\n",
              "    }\n",
              "\n",
              "    [theme=dark] .colab-df-convert:hover {\n",
              "      background-color: #434B5C;\n",
              "      box-shadow: 0px 1px 3px 1px rgba(0, 0, 0, 0.15);\n",
              "      filter: drop-shadow(0px 1px 2px rgba(0, 0, 0, 0.3));\n",
              "      fill: #FFFFFF;\n",
              "    }\n",
              "  </style>\n",
              "\n",
              "    <script>\n",
              "      const buttonEl =\n",
              "        document.querySelector('#df-1fceb51a-889e-4880-8e02-82c2ccf9b190 button.colab-df-convert');\n",
              "      buttonEl.style.display =\n",
              "        google.colab.kernel.accessAllowed ? 'block' : 'none';\n",
              "\n",
              "      async function convertToInteractive(key) {\n",
              "        const element = document.querySelector('#df-1fceb51a-889e-4880-8e02-82c2ccf9b190');\n",
              "        const dataTable =\n",
              "          await google.colab.kernel.invokeFunction('convertToInteractive',\n",
              "                                                    [key], {});\n",
              "        if (!dataTable) return;\n",
              "\n",
              "        const docLinkHtml = 'Like what you see? Visit the ' +\n",
              "          '<a target=\"_blank\" href=https://colab.research.google.com/notebooks/data_table.ipynb>data table notebook</a>'\n",
              "          + ' to learn more about interactive tables.';\n",
              "        element.innerHTML = '';\n",
              "        dataTable['output_type'] = 'display_data';\n",
              "        await google.colab.output.renderOutput(dataTable, element);\n",
              "        const docLink = document.createElement('div');\n",
              "        docLink.innerHTML = docLinkHtml;\n",
              "        element.appendChild(docLink);\n",
              "      }\n",
              "    </script>\n",
              "  </div>\n",
              "\n",
              "\n",
              "<div id=\"df-c6e4e3ed-937e-4caa-a2d1-288f5ef72655\">\n",
              "  <button class=\"colab-df-quickchart\" onclick=\"quickchart('df-c6e4e3ed-937e-4caa-a2d1-288f5ef72655')\"\n",
              "            title=\"Suggest charts\"\n",
              "            style=\"display:none;\">\n",
              "\n",
              "<svg xmlns=\"http://www.w3.org/2000/svg\" height=\"24px\"viewBox=\"0 0 24 24\"\n",
              "     width=\"24px\">\n",
              "    <g>\n",
              "        <path d=\"M19 3H5c-1.1 0-2 .9-2 2v14c0 1.1.9 2 2 2h14c1.1 0 2-.9 2-2V5c0-1.1-.9-2-2-2zM9 17H7v-7h2v7zm4 0h-2V7h2v10zm4 0h-2v-4h2v4z\"/>\n",
              "    </g>\n",
              "</svg>\n",
              "  </button>\n",
              "\n",
              "<style>\n",
              "  .colab-df-quickchart {\n",
              "      --bg-color: #E8F0FE;\n",
              "      --fill-color: #1967D2;\n",
              "      --hover-bg-color: #E2EBFA;\n",
              "      --hover-fill-color: #174EA6;\n",
              "      --disabled-fill-color: #AAA;\n",
              "      --disabled-bg-color: #DDD;\n",
              "  }\n",
              "\n",
              "  [theme=dark] .colab-df-quickchart {\n",
              "      --bg-color: #3B4455;\n",
              "      --fill-color: #D2E3FC;\n",
              "      --hover-bg-color: #434B5C;\n",
              "      --hover-fill-color: #FFFFFF;\n",
              "      --disabled-bg-color: #3B4455;\n",
              "      --disabled-fill-color: #666;\n",
              "  }\n",
              "\n",
              "  .colab-df-quickchart {\n",
              "    background-color: var(--bg-color);\n",
              "    border: none;\n",
              "    border-radius: 50%;\n",
              "    cursor: pointer;\n",
              "    display: none;\n",
              "    fill: var(--fill-color);\n",
              "    height: 32px;\n",
              "    padding: 0;\n",
              "    width: 32px;\n",
              "  }\n",
              "\n",
              "  .colab-df-quickchart:hover {\n",
              "    background-color: var(--hover-bg-color);\n",
              "    box-shadow: 0 1px 2px rgba(60, 64, 67, 0.3), 0 1px 3px 1px rgba(60, 64, 67, 0.15);\n",
              "    fill: var(--button-hover-fill-color);\n",
              "  }\n",
              "\n",
              "  .colab-df-quickchart-complete:disabled,\n",
              "  .colab-df-quickchart-complete:disabled:hover {\n",
              "    background-color: var(--disabled-bg-color);\n",
              "    fill: var(--disabled-fill-color);\n",
              "    box-shadow: none;\n",
              "  }\n",
              "\n",
              "  .colab-df-spinner {\n",
              "    border: 2px solid var(--fill-color);\n",
              "    border-color: transparent;\n",
              "    border-bottom-color: var(--fill-color);\n",
              "    animation:\n",
              "      spin 1s steps(1) infinite;\n",
              "  }\n",
              "\n",
              "  @keyframes spin {\n",
              "    0% {\n",
              "      border-color: transparent;\n",
              "      border-bottom-color: var(--fill-color);\n",
              "      border-left-color: var(--fill-color);\n",
              "    }\n",
              "    20% {\n",
              "      border-color: transparent;\n",
              "      border-left-color: var(--fill-color);\n",
              "      border-top-color: var(--fill-color);\n",
              "    }\n",
              "    30% {\n",
              "      border-color: transparent;\n",
              "      border-left-color: var(--fill-color);\n",
              "      border-top-color: var(--fill-color);\n",
              "      border-right-color: var(--fill-color);\n",
              "    }\n",
              "    40% {\n",
              "      border-color: transparent;\n",
              "      border-right-color: var(--fill-color);\n",
              "      border-top-color: var(--fill-color);\n",
              "    }\n",
              "    60% {\n",
              "      border-color: transparent;\n",
              "      border-right-color: var(--fill-color);\n",
              "    }\n",
              "    80% {\n",
              "      border-color: transparent;\n",
              "      border-right-color: var(--fill-color);\n",
              "      border-bottom-color: var(--fill-color);\n",
              "    }\n",
              "    90% {\n",
              "      border-color: transparent;\n",
              "      border-bottom-color: var(--fill-color);\n",
              "    }\n",
              "  }\n",
              "</style>\n",
              "\n",
              "  <script>\n",
              "    async function quickchart(key) {\n",
              "      const quickchartButtonEl =\n",
              "        document.querySelector('#' + key + ' button');\n",
              "      quickchartButtonEl.disabled = true;  // To prevent multiple clicks.\n",
              "      quickchartButtonEl.classList.add('colab-df-spinner');\n",
              "      try {\n",
              "        const charts = await google.colab.kernel.invokeFunction(\n",
              "            'suggestCharts', [key], {});\n",
              "      } catch (error) {\n",
              "        console.error('Error during call to suggestCharts:', error);\n",
              "      }\n",
              "      quickchartButtonEl.classList.remove('colab-df-spinner');\n",
              "      quickchartButtonEl.classList.add('colab-df-quickchart-complete');\n",
              "    }\n",
              "    (() => {\n",
              "      let quickchartButtonEl =\n",
              "        document.querySelector('#df-c6e4e3ed-937e-4caa-a2d1-288f5ef72655 button');\n",
              "      quickchartButtonEl.style.display =\n",
              "        google.colab.kernel.accessAllowed ? 'block' : 'none';\n",
              "    })();\n",
              "  </script>\n",
              "</div>\n",
              "    </div>\n",
              "  </div>\n"
            ],
            "application/vnd.google.colaboratory.intrinsic+json": {
              "type": "dataframe",
              "variable_name": "data",
              "summary": "{\n  \"name\": \"data\",\n  \"rows\": 1999,\n  \"fields\": [\n    {\n      \"column\": \"Code\",\n      \"properties\": {\n        \"dtype\": \"string\",\n        \"num_unique_values\": 1914,\n        \"samples\": [\n          \"#if 0\\nhttp://judge.u-aizu.ac.jp/onlinejudge/description.jsp?id=ALDS1_3_D&lang=jp\\n#endif\\n\\n#include <iostream>\\n#include <string>\\n#include <algorithm>\\n#include <numeric>\\n#include <utility>\\n#include <stack>\\n#include <vector>\\n\\nusing namespace std;\\n\\n#define FOR(var, start, count) for(int var=start; var<count; var++)\\n#define REP(var, count) FOR(var,0,count)\\n\\nint main(void) {\\n\\tstring str;\\n\\tcin >> str;\\n\\t\\n\\tstack<int> stk;\\n\\tstack<pair<int, int> > kouho;\\n\\t\\n\\t\\n\\tREP(i, str.size()) {\\n\\t\\tif ( str[i] == '\\\\\\\\' ) {\\n\\t\\t\\tstk.push(i);\\n\\t\\t} else if ( str[i] == '/' ) {\\n\\t\\t\\tif ( stk.size() > 0 ) {\\n\\t\\t\\t\\tint start = stk.top();\\n\\t\\t\\t\\tstk.pop();\\n\\t\\t\\t\\t\\n\\t\\t\\t\\tint under = 0;\\n\\t\\t\\t\\twhile ( kouho.size() != 0 ) {\\n\\t\\t\\t\\t\\tpair<int, int> prev = kouho.top();\\n\\t\\t\\t\\t\\tif ( prev.first > start ) {\\n\\t\\t\\t\\t\\t\\tkouho.pop();\\n\\t\\t\\t\\t\\t\\tunder += prev.second;\\n\\t\\t\\t\\t\\t} else {\\n\\t\\t\\t\\t\\t\\tbreak;\\n\\t\\t\\t\\t\\t}\\n\\t\\t\\t\\t}\\n\\t\\t\\t\\t\\n\\t\\t\\t\\tkouho.push( make_pair( start, under + i-start ) );\\n\\t\\t\\t}\\n\\t\\t}\\n\\t}\\n\\t\\n\\tvector<int> res;\\n\\twhile ( kouho.size() > 0 ) {\\n\\t\\tpair<int, int> p = kouho.top();\\n\\t\\tkouho.pop();\\n\\t\\t\\n\\t\\tres.push_back(p.second);\\n\\t}\\n\\t\\n\\treverse(res.begin(), res.end());\\n\\t\\n\\tcout << accumulate(res.begin(), res.end(), 0) << endl;\\n\\tcout << res.size();\\n\\tREP(i, res.size()) { cout << \\\" \\\" << res[i]; }\\n\\tcout << endl;\\n\\t\\n}\",\n          \"#include <iostream>\\n#include <algorithm>\\n#include <vector>\\n\\nusing namespace std;\\n\\nint main(void) {\\n\\tvector<int> a(5, 0);\\n\\t\\n\\tfor (int i = 0; i < 5; i++){\\n\\t\\tcin >> a[i];\\n\\t}\\n\\n\\tsort(a.begin(), a.end(), greater<int>());\\n\\n\\tfor(int i = 0; i < 5 ; i++) {\\n\\t\\tif(i == 4) {\\n\\t\\t\\tcout << a[4] << endl;\\n\\t\\t\\tbreak;\\n\\t\\t}\\n\\t\\tcout << a[i] << \\\" \\\";\\n\\t}\\n\\t\\treturn 0;\\n}\",\n          \"#include<stdio.h>\\n#include<algorithm>\\nusing namespace std;\\nint dp[2][256];\\nint c[16];\\nint d[20000];\\nint M(int a){return a*a;}\\nint main(){\\n\\tint inf=999999999;\\n\\tint a,b;\\n\\twhile(scanf(\\\"%d%d\\\",&a,&b),a){\\n\\t\\tfor(int i=0;i<b;i++)scanf(\\\"%d\\\",c+i);\\n\\t\\tfor(int i=0;i<a;i++)scanf(\\\"%d\\\",d+i);\\n\\t\\tfor(int i=0;i<2;i++)for(int j=0;j<256;j++)dp[i][j]=inf;\\n\\t\\tdp[0][128]=0;\\n\\t\\tfor(int i=0;i<a;i++){\\n\\t\\t\\tfor(int j=0;j<256;j++)dp[(i+1)%2][j]=inf;\\n\\t\\t\\tfor(int j=0;j<256;j++){\\n\\t\\t\\t\\tif(dp[i&1][j]==inf)continue;\\n\\t\\t\\t\\tfor(int k=0;k<b;k++)dp[!(i&1)][max(min(j+c[k],255),0)]=min(dp[!(i&1)][max(min(j+c[k],255),0)],dp[i&1][j]+M(d[i]-(max(min(j+c[k],255),0))));\\n\\t\\t\\t}\\n\\t\\t}\\n\\t\\tint ret=999999999;\\n\\t\\tfor(int i=0;i<256;i++)ret=min(ret,dp[a&1][i]);printf(\\\"%d\\\\n\\\",ret);\\n\\t}\\n}\"\n        ],\n        \"semantic_type\": \"\",\n        \"description\": \"\"\n      }\n    },\n    {\n      \"column\": \"Label\",\n      \"properties\": {\n        \"dtype\": \"number\",\n        \"std\": 0,\n        \"min\": 0,\n        \"max\": 1,\n        \"num_unique_values\": 2,\n        \"samples\": [\n          0,\n          1\n        ],\n        \"semantic_type\": \"\",\n        \"description\": \"\"\n      }\n    }\n  ]\n}"
            }
          },
          "metadata": {},
          "execution_count": 6
        }
      ]
    },
    {
      "cell_type": "code",
      "source": [
        "# Initialize the T5 Tokenizer\n",
        "tokenizer = T5Tokenizer.from_pretrained(\"t5-small\")"
      ],
      "metadata": {
        "colab": {
          "base_uri": "https://localhost:8080/"
        },
        "id": "4FRlAuvGgFWY",
        "outputId": "8bf6aed0-8fb5-4e95-a0ef-1de1f8866a05"
      },
      "execution_count": 22,
      "outputs": [
        {
          "output_type": "stream",
          "name": "stderr",
          "text": [
            "Special tokens have been added in the vocabulary, make sure the associated word embeddings are fine-tuned or trained.\n"
          ]
        }
      ]
    },
    {
      "cell_type": "code",
      "source": [
        "# Tokenize the code column and convert it into vectors\n",
        "input_ids = []\n",
        "for code in data['Code']:\n",
        "    encoded_code = tokenizer.encode(code, return_tensors='pt', padding='max_length', truncation=True, max_length=512)\n",
        "    input_ids.append(encoded_code)"
      ],
      "metadata": {
        "id": "-IfcpWLugIsA"
      },
      "execution_count": 23,
      "outputs": []
    },
    {
      "cell_type": "code",
      "source": [
        "# Convert the list of tensors into a single tensor\n",
        "input_ids = torch.cat(input_ids, dim=0)\n",
        "\n",
        "# Prepare the labels\n",
        "labels = torch.tensor(data['Label'].values)"
      ],
      "metadata": {
        "id": "AW20g-aigLxm"
      },
      "execution_count": 24,
      "outputs": []
    },
    {
      "cell_type": "code",
      "source": [
        "# Split the data into training and testing sets\n",
        "train_inputs, test_inputs, train_labels, test_labels = train_test_split(input_ids, labels, test_size=0.15, random_state=42)"
      ],
      "metadata": {
        "id": "gyq1y4ZAgPGo"
      },
      "execution_count": 25,
      "outputs": []
    },
    {
      "cell_type": "code",
      "source": [
        "# Define the GRU model\n",
        "class GRUClassifier(nn.Module):\n",
        "    def __init__(self, input_size, hidden_size, num_layers, output_size):\n",
        "        super(GRUClassifier, self).__init__()\n",
        "        self.gru = nn.GRU(input_size, hidden_size, num_layers, batch_first=True)\n",
        "        self.fc = nn.Linear(hidden_size, output_size)\n",
        "        self.sigmoid = nn.Sigmoid()\n",
        "\n",
        "    def forward(self, x):\n",
        "        out, _ = self.gru(x)\n",
        "        out = self.fc(out)\n",
        "        out = self.sigmoid(out)\n",
        "        return out\n",
        "\n",
        "\n",
        "\n",
        "# Initialize the model, loss function, and optimizer\n",
        "input_size = 512  # Assuming max_length = 512 after tokenization\n",
        "hidden_size = 128\n",
        "num_layers = 2\n",
        "output_size = 1\n",
        "\n",
        "model = GRUClassifier(input_size, hidden_size, num_layers, output_size)\n",
        "criterion = nn.BCELoss()\n",
        "optimizer = torch.optim.Adam(model.parameters(), lr=0.001)"
      ],
      "metadata": {
        "id": "-W_sj6hmgSRB"
      },
      "execution_count": 26,
      "outputs": []
    },
    {
      "cell_type": "code",
      "source": [
        "# Train the model\n",
        "epochs = 10\n",
        "batch_size = 512\n",
        "\n",
        "for epoch in range(epochs):\n",
        "    for i in range(0, len(train_inputs), batch_size):\n",
        "        inputs = train_inputs[i:i+batch_size]\n",
        "        labels = train_labels[i:i+batch_size]\n",
        "\n",
        "        optimizer.zero_grad()\n",
        "\n",
        "        outputs = model(inputs.float())\n",
        "        loss = criterion(outputs.squeeze(), labels.float())\n",
        "\n",
        "        loss.backward()\n",
        "        optimizer.step()\n",
        "\n",
        "    print(f'Epoch [{epoch}/{epochs}], Loss: {loss.item()}')"
      ],
      "metadata": {
        "colab": {
          "base_uri": "https://localhost:8080/"
        },
        "id": "vk9Pc3F1gaQM",
        "outputId": "ee4a7d5a-c69c-4699-e001-ee55ade986e6"
      },
      "execution_count": 27,
      "outputs": [
        {
          "output_type": "stream",
          "name": "stdout",
          "text": [
            "Epoch [0/10], Loss: 0.6804930567741394\n",
            "Epoch [1/10], Loss: 0.6457083225250244\n",
            "Epoch [2/10], Loss: 0.615138590335846\n",
            "Epoch [3/10], Loss: 0.5734503269195557\n",
            "Epoch [4/10], Loss: 0.5255307555198669\n",
            "Epoch [5/10], Loss: 0.4709286391735077\n",
            "Epoch [6/10], Loss: 0.4096842110157013\n",
            "Epoch [7/10], Loss: 0.3590719997882843\n",
            "Epoch [8/10], Loss: 0.3401224911212921\n",
            "Epoch [9/10], Loss: 0.30857911705970764\n"
          ]
        }
      ]
    },
    {
      "cell_type": "code",
      "source": [
        "# Evaluate the model\n",
        "with torch.no_grad():\n",
        "    outputs = model(test_inputs.float())\n",
        "    predicted = torch.round(outputs).squeeze()\n",
        "    accuracy = (predicted == test_labels).sum().item() / len(test_labels)\n",
        "    print(f'Accuracy: {accuracy}')"
      ],
      "metadata": {
        "colab": {
          "base_uri": "https://localhost:8080/"
        },
        "id": "-t5zX3Yigr6a",
        "outputId": "93c70a95-e0eb-496d-96dd-ed0a8f21a1a4"
      },
      "execution_count": 28,
      "outputs": [
        {
          "output_type": "stream",
          "name": "stdout",
          "text": [
            "Accuracy: 0.89\n"
          ]
        }
      ]
    }
  ]
}